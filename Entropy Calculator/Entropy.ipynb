{
 "cells": [
  {
   "cell_type": "code",
   "execution_count": null,
   "metadata": {},
   "outputs": [],
   "source": [
    "def get_entropy2(*args):\n",
    "    import math \n",
    "\n",
    "    total = sum(args)\n",
    "    entropy = 0\n",
    "   \n",
    "    for count in args:\n",
    "        if count > 0:\n",
    "            probability = count / total\n",
    "            entropy -= probability * math.log2(probability)\n",
    "        else:\n",
    "            raise ValueError(\"Count can not be lower than 1\")\n",
    "    return entropy"
   ]
  },
  {
   "cell_type": "code",
   "execution_count": null,
   "metadata": {},
   "outputs": [
    {
     "data": {
      "text/plain": [
       "0.9402859586706311"
      ]
     },
     "execution_count": 8,
     "metadata": {},
     "output_type": "execute_result"
    }
   ],
   "source": [
    "get_entropy2(9, 5) # 0.940"
   ]
  },
  {
   "cell_type": "code",
   "execution_count": null,
   "metadata": {},
   "outputs": [
    {
     "name": "stdout",
     "output_type": "stream",
     "text": [
      "{'Age': {'Young': {'Drug A': 3, 'Drug B': 2}, 'Middle-age': {'Drug A': 0, 'Drug B': 4}, 'Senior': {'Drug A': 2, 'Drug B': 3}}, 'Sex': {'F': {'Drug A': 4, 'Drug B': 3}, 'M': {'Drug A': 1, 'Drug B': 6}}, 'BP': {'High': {'Drug A': 2, 'Drug B': 2}, 'Normal': {'Drug A': 2, 'Drug B': 4}, 'Low': {'Drug A': 1, 'Drug B': 3}}, 'Cholesterol': {'Normal': {'Drug A': 2, 'Drug B': 6}, 'High': {'Drug A': 3, 'Drug B': 3}}}\n",
      "dict_keys(['Age', 'Sex', 'BP', 'Cholesterol'])\n",
      "dict_values([{'Young': {'Drug A': 3, 'Drug B': 2}, 'Middle-age': {'Drug A': 0, 'Drug B': 4}, 'Senior': {'Drug A': 2, 'Drug B': 3}}, {'F': {'Drug A': 4, 'Drug B': 3}, 'M': {'Drug A': 1, 'Drug B': 6}}, {'High': {'Drug A': 2, 'Drug B': 2}, 'Normal': {'Drug A': 2, 'Drug B': 4}, 'Low': {'Drug A': 1, 'Drug B': 3}}, {'Normal': {'Drug A': 2, 'Drug B': 6}, 'High': {'Drug A': 3, 'Drug B': 3}}])\n"
     ]
    }
   ],
   "source": [
    "import pandas as pd\n",
    "df = pd.read_csv(\"patient_drug_data.csv\")\n",
    "\n",
    "columns = df.columns  # list of column labels\n",
    "length = len(df.columns)  # number of columns\n",
    "\n",
    "target_column = df.columns[-1]  # last column\n",
    "unique_target_vals = df[target_column].unique()# unique values in the specified column\n",
    "\n",
    "\n",
    "nested_dict = {}\n",
    "\n",
    "for col in columns[1:length-1]: # iterate over all columns except the first(index) and last(target)\n",
    "    nested_dict[col] = {}\n",
    "    for unique_val in df[col].unique():\n",
    "        nested_dict[col][unique_val] = {}\n",
    "        for target in unique_target_vals:\n",
    "            count = df[(df[col] == unique_val) & (df[:-1] == target)].shape[0]\n",
    "            nested_dict[col][unique_val][target] = count\n",
    "\n",
    "print(nested_dict)\n",
    "print(nested_dict.keys())\n",
    "print(nested_dict.values())"
   ]
  },
  {
   "cell_type": "code",
   "execution_count": null,
   "metadata": {},
   "outputs": [],
   "source": []
  },
  {
   "cell_type": "markdown",
   "metadata": {},
   "source": [
    "### Testing grounds:"
   ]
  },
  {
   "cell_type": "code",
   "execution_count": null,
   "metadata": {},
   "outputs": [
    {
     "name": "stdout",
     "output_type": "stream",
     "text": [
      "{'Patient ID': array([ 1,  2,  3,  4,  5,  6,  7,  8,  9, 10, 11, 12, 13, 14]), 'Age': array(['Young', 'Middle-age', 'Senior'], dtype=object), 'Sex': array(['F', 'M'], dtype=object), 'BP': array(['High', 'Normal', 'Low'], dtype=object), 'Cholesterol': array(['Normal', 'High'], dtype=object)}\n"
     ]
    }
   ],
   "source": [
    "columns = df.columns #list of column labels\n",
    "\n",
    "length = len(df.columns)# number of columns\n",
    "target = df[\"Drug\"]\n",
    "unique_drug_vals = df.columns[:-1].unique()# unique values in the specified column\n",
    "\n",
    "col_uniques = {col: df[col].unique() for col in columns[1:length-1] } # unique values in each column except the last one\n",
    "print(col_uniques)                                                    # Strictly first column is indices and last column is target"
   ]
  },
  {
   "cell_type": "code",
   "execution_count": 85,
   "metadata": {},
   "outputs": [
    {
     "name": "stdout",
     "output_type": "stream",
     "text": [
      "DF head: \n",
      "\n",
      "    Patient ID         Age Sex      BP Cholesterol    Drug\n",
      "0           1       Young   F    High      Normal  Drug A\n",
      "1           2       Young   F    High        High  Drug A\n",
      "2           3  Middle-age   F    High      Normal  Drug B\n",
      "3           4      Senior   F  Normal      Normal  Drug B\n",
      "4           5      Senior   M     Low      Normal  Drug B\n",
      "\n",
      "columns:  Index(['Patient ID', 'Age', 'Sex', 'BP', 'Cholesterol', 'Drug'], dtype='object')\n",
      "\n",
      "length:  6\n",
      "\n",
      "target:  Index(['Patient ID', 'Age', 'Sex', 'BP', 'Cholesterol'], dtype='object')\n",
      "\n",
      "target uniques:  Index(['Patient ID', 'Age', 'Sex', 'BP', 'Cholesterol'], dtype='object')\n"
     ]
    }
   ],
   "source": [
    "import pandas as pd\n",
    "df = pd.read_csv(\"patient_drug_data.csv\")\n",
    "print(\"DF head: \\n\\n\",df.head())\n",
    "\n",
    "columns = df.columns  # list of column labels\n",
    "print(\"\\ncolumns: \", columns)\n",
    "length = len(df.columns)  # number of columns\n",
    "print(\"\\nlength: \", length)\n",
    "target = df.columns[:-1]\n",
    "print(\"\\ntarget: \", target)\n",
    "target_unique=target.unique() # unique values in the specified column\n",
    "print(\"\\ntarget uniques: \", target_unique)\n"
   ]
  }
 ],
 "metadata": {
  "kernelspec": {
   "display_name": "venv",
   "language": "python",
   "name": "python3"
  },
  "language_info": {
   "codemirror_mode": {
    "name": "ipython",
    "version": 3
   },
   "file_extension": ".py",
   "mimetype": "text/x-python",
   "name": "python",
   "nbconvert_exporter": "python",
   "pygments_lexer": "ipython3",
   "version": "3.11.5"
  }
 },
 "nbformat": 4,
 "nbformat_minor": 2
}
