{
 "cells": [
  {
   "cell_type": "code",
   "execution_count": 40,
   "metadata": {},
   "outputs": [],
   "source": [
    "def get_entropy2(*args):\n",
    "    import math \n",
    "\n",
    "    total = sum(args)\n",
    "    entropy = 0\n",
    "   \n",
    "    for count in args:\n",
    "        if count > 0:\n",
    "            probability = count / total\n",
    "            entropy -= probability * math.log2(probability)\n",
    "        elif count == 0:\n",
    "            entropy -= 0\n",
    "        else:\n",
    "            raise ValueError(\"Count can not be lower than 0\")\n",
    "    return entropy"
   ]
  },
  {
   "cell_type": "code",
   "execution_count": 23,
   "metadata": {},
   "outputs": [
    {
     "data": {
      "text/plain": [
       "0.9402859586706311"
      ]
     },
     "execution_count": 23,
     "metadata": {},
     "output_type": "execute_result"
    }
   ],
   "source": [
    "get_entropy2(9, 5) # 0.940"
   ]
  },
  {
   "cell_type": "code",
   "execution_count": 18,
   "metadata": {},
   "outputs": [
    {
     "name": "stdout",
     "output_type": "stream",
     "text": [
      "{'Age': {'Young': {'Drug A': 14, 'Drug B': 14}, 'Middle-age': {'Drug A': 14, 'Drug B': 14}, 'Senior': {'Drug A': 14, 'Drug B': 14}}, 'Sex': {'F': {'Drug A': 14, 'Drug B': 14}, 'M': {'Drug A': 14, 'Drug B': 14}}, 'BP': {'High': {'Drug A': 14, 'Drug B': 14}, 'Normal': {'Drug A': 14, 'Drug B': 14}, 'Low': {'Drug A': 14, 'Drug B': 14}}, 'Cholesterol': {'Normal': {'Drug A': 14, 'Drug B': 14}, 'High': {'Drug A': 14, 'Drug B': 14}}}\n",
      "dict_keys(['Age', 'Sex', 'BP', 'Cholesterol'])\n",
      "dict_values([{'Young': {'Drug A': 14, 'Drug B': 14}, 'Middle-age': {'Drug A': 14, 'Drug B': 14}, 'Senior': {'Drug A': 14, 'Drug B': 14}}, {'F': {'Drug A': 14, 'Drug B': 14}, 'M': {'Drug A': 14, 'Drug B': 14}}, {'High': {'Drug A': 14, 'Drug B': 14}, 'Normal': {'Drug A': 14, 'Drug B': 14}, 'Low': {'Drug A': 14, 'Drug B': 14}}, {'Normal': {'Drug A': 14, 'Drug B': 14}, 'High': {'Drug A': 14, 'Drug B': 14}}])\n"
     ]
    }
   ],
   "source": [
    "import pandas as pd\n",
    "df = pd.read_csv(\"patient_drug_data.csv\")\n",
    "\n",
    "columns = df.columns  # list of column labels\n",
    "length = len(df.columns)  # number of columns\n",
    "\n",
    "target_column = df.columns[-1]  # last column\n",
    "unique_target_vals = df[target_column].unique()# unique values in the specified column\n",
    "\n",
    "\n",
    "nested_dict = {}\n",
    "\n",
    "for col in columns[1:length-1]: # iterate over all columns except the first(index) and last(target)\n",
    "    nested_dict[col] = {}\n",
    "    for unique_val in df[col].unique():\n",
    "        nested_dict[col][unique_val] = {}\n",
    "        for target in unique_target_vals:\n",
    "            count = df[(df[col] == unique_val) & (df[:-1] == target)].shape[0]\n",
    "            nested_dict[col][unique_val][target] = count\n",
    "\n",
    "print(nested_dict)\n",
    "print(nested_dict.keys())\n",
    "print(nested_dict.values())\n",
    "\n"
   ]
  },
  {
   "cell_type": "code",
   "execution_count": 41,
   "metadata": {},
   "outputs": [
    {
     "name": "stdout",
     "output_type": "stream",
     "text": [
      "Column: Age\n",
      "  Unique Value: Young\n",
      "    Target: Drug A, Count: 3\n",
      "    Target: Drug B, Count: 2\n",
      "  Unique Value: Middle-age\n",
      "    Target: Drug A, Count: 0\n",
      "    Target: Drug B, Count: 4\n",
      "  Unique Value: Senior\n",
      "    Target: Drug A, Count: 2\n",
      "    Target: Drug B, Count: 3\n",
      "Column: Sex\n",
      "  Unique Value: F\n",
      "    Target: Drug A, Count: 4\n",
      "    Target: Drug B, Count: 3\n",
      "  Unique Value: M\n",
      "    Target: Drug A, Count: 1\n",
      "    Target: Drug B, Count: 6\n",
      "Column: BP\n",
      "  Unique Value: High\n",
      "    Target: Drug A, Count: 2\n",
      "    Target: Drug B, Count: 2\n",
      "  Unique Value: Normal\n",
      "    Target: Drug A, Count: 2\n",
      "    Target: Drug B, Count: 4\n",
      "  Unique Value: Low\n",
      "    Target: Drug A, Count: 1\n",
      "    Target: Drug B, Count: 3\n",
      "Column: Cholesterol\n",
      "  Unique Value: Normal\n",
      "    Target: Drug A, Count: 2\n",
      "    Target: Drug B, Count: 6\n",
      "  Unique Value: High\n",
      "    Target: Drug A, Count: 3\n",
      "    Target: Drug B, Count: 3\n"
     ]
    }
   ],
   "source": [
    "import pandas as pd\n",
    "df = pd.read_csv(\"patient_drug_data.csv\")\n",
    "\n",
    "columns = df.columns  # list of column labels\n",
    "length = len(df.columns)  # number of columns\n",
    "\n",
    "target_column = df.columns[-1]  # last column\n",
    "unique_target_vals = df[target_column].unique()  # unique values in the specified column\n",
    "\n",
    "nested_dict = {}\n",
    "\n",
    "for col in columns[1:length-1]:  # iterate over all columns except the first(index) and last(target)\n",
    "    nested_dict[col] = {}\n",
    "    for unique_val in df[col].unique():\n",
    "        nested_dict[col][unique_val] = {}\n",
    "        for target in unique_target_vals:\n",
    "            count = df[(df[col] == unique_val) & (df[target_column] == target)].shape[0]\n",
    "            nested_dict[col][unique_val][target] = count\n",
    "\n",
    "# Print the nested dictionary structure\n",
    "for col, unique_vals in nested_dict.items():\n",
    "    print(f\"Column: {col}\")\n",
    "    for unique_val, target_counts in unique_vals.items():\n",
    "        print(f\"  Unique Value: {unique_val}\")\n",
    "        for target, count in target_counts.items():\n",
    "            print(f\"    Target: {target}, Count: {count}\")"
   ]
  },
  {
   "cell_type": "markdown",
   "metadata": {},
   "source": [
    "### Testing grounds:"
   ]
  },
  {
   "cell_type": "code",
   "execution_count": 43,
   "metadata": {},
   "outputs": [
    {
     "name": "stdout",
     "output_type": "stream",
     "text": [
      "dr_ent 0.9402859586706311\n",
      "age_IG 0.24674981977443933\n",
      "sex_IG 0.15183550136234159\n",
      "bp_IG 0.02922256565895487\n",
      "cl_IG  0.04812703040826949\n"
     ]
    }
   ],
   "source": [
    "dr_ent= get_entropy2(5,9)\n",
    "print(\"dr_ent\", dr_ent)\n",
    "\n",
    "age_ent = (5/14)*get_entropy2(3,2)+(4/14)*get_entropy2(0,4)+(5/14)*get_entropy2(2,3)\n",
    "age_IG = dr_ent - age_ent\n",
    "print(\"age_IG\", age_IG)\n",
    "\n",
    "sex_ent = (7/14)*get_entropy2(1,6)+(7/14)*get_entropy2(4,3)\n",
    "sex_IG = dr_ent - sex_ent\n",
    "print(\"sex_IG\", sex_IG)\n",
    "\n",
    "bp_ent = (4/14)*get_entropy2(2,2)+(6/14)*get_entropy2(2,4)+(4/14)*get_entropy2(1,3)\n",
    "bp_IG = dr_ent - bp_ent\n",
    "print(\"bp_IG\", bp_IG)\n",
    "\n",
    "cl_ent = (8/14)*get_entropy2(2,6)+(6/14)*get_entropy2(3,3)\n",
    "cl_IG = dr_ent - cl_ent\n",
    "print(\"cl_IG \",cl_IG)"
   ]
  },
  {
   "cell_type": "code",
   "execution_count": null,
   "metadata": {},
   "outputs": [
    {
     "name": "stdout",
     "output_type": "stream",
     "text": [
      "{'Patient ID': array([ 1,  2,  3,  4,  5,  6,  7,  8,  9, 10, 11, 12, 13, 14]), 'Age': array(['Young', 'Middle-age', 'Senior'], dtype=object), 'Sex': array(['F', 'M'], dtype=object), 'BP': array(['High', 'Normal', 'Low'], dtype=object), 'Cholesterol': array(['Normal', 'High'], dtype=object)}\n"
     ]
    }
   ],
   "source": [
    "columns = df.columns #list of column labels\n",
    "\n",
    "length = len(df.columns)# number of columns\n",
    "target = df[\"Drug\"]\n",
    "unique_drug_vals = df.columns[:-1].unique()# unique values in the specified column\n",
    "\n",
    "col_uniques = {col: df[col].unique() for col in columns[1:length-1] } # unique values in each column except the last one\n",
    "print(col_uniques)                                                    # Strictly first column is indices and last column is target"
   ]
  },
  {
   "cell_type": "code",
   "execution_count": 85,
   "metadata": {},
   "outputs": [
    {
     "name": "stdout",
     "output_type": "stream",
     "text": [
      "DF head: \n",
      "\n",
      "    Patient ID         Age Sex      BP Cholesterol    Drug\n",
      "0           1       Young   F    High      Normal  Drug A\n",
      "1           2       Young   F    High        High  Drug A\n",
      "2           3  Middle-age   F    High      Normal  Drug B\n",
      "3           4      Senior   F  Normal      Normal  Drug B\n",
      "4           5      Senior   M     Low      Normal  Drug B\n",
      "\n",
      "columns:  Index(['Patient ID', 'Age', 'Sex', 'BP', 'Cholesterol', 'Drug'], dtype='object')\n",
      "\n",
      "length:  6\n",
      "\n",
      "target:  Index(['Patient ID', 'Age', 'Sex', 'BP', 'Cholesterol'], dtype='object')\n",
      "\n",
      "target uniques:  Index(['Patient ID', 'Age', 'Sex', 'BP', 'Cholesterol'], dtype='object')\n"
     ]
    }
   ],
   "source": [
    "import pandas as pd\n",
    "df = pd.read_csv(\"patient_drug_data.csv\")\n",
    "print(\"DF head: \\n\\n\",df.head())\n",
    "\n",
    "columns = df.columns  # list of column labels\n",
    "print(\"\\ncolumns: \", columns)\n",
    "length = len(df.columns)  # number of columns\n",
    "print(\"\\nlength: \", length)\n",
    "target = df.columns[:-1]\n",
    "print(\"\\ntarget: \", target)\n",
    "target_unique=target.unique() # unique values in the specified column\n",
    "print(\"\\ntarget uniques: \", target_unique)\n"
   ]
  },
  {
   "cell_type": "code",
   "execution_count": null,
   "metadata": {},
   "outputs": [],
   "source": [
    "#2\n",
    "get_entropy2()\n"
   ]
  },
  {
   "cell_type": "code",
   "execution_count": null,
   "metadata": {},
   "outputs": [],
   "source": [
    "import numpy as np\n",
    "\n",
    "# Function to calculate entropy\n",
    "def entropy(y):\n",
    "    values, counts = np.unique(y, return_counts=True)\n",
    "    probabilities = counts / counts.sum()\n",
    "    return -np.sum(probabilities * np.log2(probabilities))\n",
    "\n",
    "# Function to calculate information gain\n",
    "def information_gain(data, feature, target):\n",
    "    total_entropy = entropy(data[target])\n",
    "    \n",
    "    # Compute weighted entropy for each unique value in the feature\n",
    "    values, counts = np.unique(data[feature], return_counts=True)\n",
    "    weighted_entropy = sum(\n",
    "        (counts[i] / sum(counts)) * entropy(data[data[feature] == values[i]][target]) \n",
    "        for i in range(len(values))\n",
    "    )\n",
    "    \n",
    "    return total_entropy - weighted_entropy\n",
    "\n",
    "# Compute entropy for the whole dataset\n",
    "initial_entropy = entropy(y)\n",
    "\n",
    "# Compute information gain for each feature\n",
    "info_gains = {feature: information_gain(df, feature, \"Drug\") for feature in X.columns}\n",
    "\n",
    "# Display results\n",
    "initial_entropy, info_gains"
   ]
  }
 ],
 "metadata": {
  "kernelspec": {
   "display_name": "venv",
   "language": "python",
   "name": "python3"
  },
  "language_info": {
   "codemirror_mode": {
    "name": "ipython",
    "version": 3
   },
   "file_extension": ".py",
   "mimetype": "text/x-python",
   "name": "python",
   "nbconvert_exporter": "python",
   "pygments_lexer": "ipython3",
   "version": "3.11.5"
  }
 },
 "nbformat": 4,
 "nbformat_minor": 2
}
